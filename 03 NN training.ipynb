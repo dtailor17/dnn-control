{
 "cells": [
  {
   "cell_type": "code",
   "execution_count": 1,
   "metadata": {},
   "outputs": [],
   "source": [
    "from helpers.shared_imports import *\n",
    "%matplotlib inline"
   ]
  },
  {
   "cell_type": "code",
   "execution_count": 47,
   "metadata": {},
   "outputs": [],
   "source": [
    "from helpers.nn_training import run_models, create_and_train_network\n",
    "from helpers.util import get_possible_configurations, read_config\n",
    "from helpers.evaluation import get_parameter_count, get_min_error, get_model_metrics, get_keras_model\n",
    "from helpers.preprocessing import get_train_val_datasets"
   ]
  },
  {
   "cell_type": "code",
   "execution_count": 16,
   "metadata": {},
   "outputs": [],
   "source": [
    "import pandas as pd"
   ]
  },
  {
   "cell_type": "markdown",
   "metadata": {},
   "source": [
    "**Specify hyperparameters**\n",
    "\n",
    "\n",
    "Other hyperparameters can be incorporated but you may need to modify the code slightly in `helpers/util`\n",
    "\n",
    "Here we set all hyperparameters to a single value except a few different network architectures; `hid_layer_dims`"
   ]
  },
  {
   "cell_type": "code",
   "execution_count": 3,
   "metadata": {},
   "outputs": [
    {
     "data": {
      "text/plain": [
       "[OrderedDict([('output_indices', [6, 7]),\n",
       "              ('learning_rule', 'adam'),\n",
       "              ('learning_rate', 0.001),\n",
       "              ('batch_size', 512),\n",
       "              ('hid_layer_dims', [100])]),\n",
       " OrderedDict([('output_indices', [6, 7]),\n",
       "              ('learning_rule', 'adam'),\n",
       "              ('learning_rate', 0.001),\n",
       "              ('batch_size', 512),\n",
       "              ('hid_layer_dims', [100, 100])]),\n",
       " OrderedDict([('output_indices', [6, 7]),\n",
       "              ('learning_rule', 'adam'),\n",
       "              ('learning_rate', 0.001),\n",
       "              ('batch_size', 512),\n",
       "              ('hid_layer_dims', [100, 100, 100])])]"
      ]
     },
     "execution_count": 3,
     "metadata": {},
     "output_type": "execute_result"
    }
   ],
   "source": [
    "hyper_param_grid = {}\n",
    "hyper_param_grid['learning_rate'] = [1e-3]\n",
    "hyper_param_grid['hid_layer_dims'] = [[100]*1, [100]*2, [100]*3]\n",
    "hyper_param_grid['output_indices'] = [[6,7]]\n",
    "hyper_param_grid['batch_size'] = [512]\n",
    "hyper_param_grid['learning_rule'] = ['adam']\n",
    "\n",
    "configurations = get_possible_configurations(hyper_param_grid)\n",
    "configurations"
   ]
  },
  {
   "cell_type": "code",
   "execution_count": 4,
   "metadata": {},
   "outputs": [],
   "source": [
    "data_path = 'datasets/bebop_power.npy'"
   ]
  },
  {
   "cell_type": "markdown",
   "metadata": {},
   "source": [
    "**Train a single network inline and not export anything**\n",
    "\n",
    "Neural network training details are not listed here (see paper or *helpers* code).\n",
    "\n",
    "We should note that the *patience* values for early stopping and learning rate decay were selected based on a training set corresponding to 160,000 trajectories.\n",
    "\n",
    "The dataset included in this repo is simply for demonstration purposes only (satisfies GitHub file size limit)"
   ]
  },
  {
   "cell_type": "code",
   "execution_count": 12,
   "metadata": {},
   "outputs": [
    {
     "name": "stdout",
     "output_type": "stream",
     "text": [
      "Train on 1227200 samples, validate on 153400 samples\n",
      "Epoch 1/5\n",
      "1227200/1227200 [==============================] - 8s 6us/step - loss: 0.0218 - mean_absolute_error: 0.0855 - val_loss: 0.0189 - val_mean_absolute_error: 0.0803\n",
      "Epoch 2/5\n",
      "1227200/1227200 [==============================] - 7s 6us/step - loss: 0.0180 - mean_absolute_error: 0.0791 - val_loss: 0.0187 - val_mean_absolute_error: 0.0799\n",
      "Epoch 3/5\n",
      "1227200/1227200 [==============================] - 7s 6us/step - loss: 0.0173 - mean_absolute_error: 0.0765 - val_loss: 0.0173 - val_mean_absolute_error: 0.0753\n",
      "Epoch 4/5\n",
      "1227200/1227200 [==============================] - 8s 6us/step - loss: 0.0156 - mean_absolute_error: 0.0705 - val_loss: 0.0157 - val_mean_absolute_error: 0.0682\n",
      "Epoch 5/5\n",
      "1227200/1227200 [==============================] - 8s 6us/step - loss: 0.0136 - mean_absolute_error: 0.0630 - val_loss: 0.0128 - val_mean_absolute_error: 0.0585\n"
     ]
    }
   ],
   "source": [
    "config = configurations[0]\n",
    "create_and_train_network(config, data_path, epochs=5)"
   ]
  },
  {
   "cell_type": "markdown",
   "metadata": {},
   "source": [
    "**Train multiple models in parallel and export metrics and model**\n",
    "\n",
    "Uses *multiprocessing* for parallelisation.\n",
    "\n",
    "Note that the following code may take a long while to run as all models train for a minimum of 100 epochs before early stopping kicks in.\n",
    "\n",
    "I would recommend to change the default value of argument `epochs` to say 5 in function `create_and_train_network()` within `helpers/nn_training`.\n",
    "And reimport the module.\n",
    "\n",
    "For each model, we export the files:\n",
    "* *best_model.h5* - keras model\n",
    "* *config.txt* - dictionary of model properties (see above)\n",
    "* *log.out* - keras training feed redirected from stdout\n",
    "* *metrics_loss.npz* - MSE metrics on train/val set for each epoch (and minibatch for train)\n",
    "* metrics_mean_absolute_error.npz* - MAE metrics"
   ]
  },
  {
   "cell_type": "code",
   "execution_count": 5,
   "metadata": {},
   "outputs": [
    {
     "name": "stdout",
     "output_type": "stream",
     "text": [
      "model-4099158344583306909\n",
      "model-5588947709159987985\n",
      "model4331790190273754659\n"
     ]
    }
   ],
   "source": [
    "models_path = 'models/bebop_power2' # where to store trained models\n",
    "\n",
    "run_models(configurations, models_path, data_path, n_processes=3)"
   ]
  },
  {
   "cell_type": "markdown",
   "metadata": {},
   "source": [
    "There is also code for training multiple models over a number of GPUs from a single process.\n",
    "\n",
    "This is in `helpers/nn_training_gpu`."
   ]
  },
  {
   "cell_type": "code",
   "execution_count": 34,
   "metadata": {},
   "outputs": [],
   "source": [
    "# run_models_gpu(configurations, models_path, data_path, gpus_available=[2,3,4,6,7,8,9])"
   ]
  },
  {
   "cell_type": "markdown",
   "metadata": {},
   "source": [
    "**Pickling important parameters**\n",
    "\n",
    "From each model, we extract its network configuration and the weights and biases. \n",
    "Along with the input and output scalers, these variables are all serialised.\n",
    "\n",
    "We do this to avoid (from this notebook onwards) dealing with objects created by ML libraries.\n",
    "The pickled file is used as a constructor argument for a *Controller* class in `helpers/integrate` so we can use the network outputs as a control feedback in simulation."
   ]
  },
  {
   "cell_type": "code",
   "execution_count": 49,
   "metadata": {},
   "outputs": [],
   "source": [
    "export_dir = 'models_pickled/bebop_power'\n",
    "models_path = 'models/bebop_power'\n",
    "\n",
    "for config in configurations:\n",
    "    model = get_keras_model(config, models_path)\n",
    "    _, scalers = get_train_val_datasets(data_path)\n",
    "\n",
    "    n_layers = len(config['hid_layer_dims'])\n",
    "    n_units = config['hid_layer_dims'][0]\n",
    "    filename = 'power_bebop_h{0:02}_n{1:04}.pkl'.format(n_layers, n_units)\n",
    "    export_path = os.path.join(export_dir, filename)\n",
    "\n",
    "    pickle_controller_params(model, scalers, export_path)"
   ]
  },
  {
   "cell_type": "markdown",
   "metadata": {},
   "source": [
    "**Compare trained models by final error**"
   ]
  },
  {
   "cell_type": "code",
   "execution_count": 15,
   "metadata": {},
   "outputs": [],
   "source": [
    "# get all model configs stored in path\n",
    "models_path = 'models/bebop_power'\n",
    "\n",
    "mdl_id_lst = os.listdir(models_path)\n",
    "configurations = [0 for _ in range(len(mdl_id_lst))]\n",
    "\n",
    "for i, mdl_id in enumerate(mdl_id_lst):\n",
    "    path_to_config = os.path.join(models_path, mdl_id, 'config.txt')\n",
    "    configurations[i] = read_config(path_to_config)"
   ]
  },
  {
   "cell_type": "code",
   "execution_count": 21,
   "metadata": {},
   "outputs": [
    {
     "data": {
      "text/html": [
       "<div>\n",
       "<style scoped>\n",
       "    .dataframe tbody tr th:only-of-type {\n",
       "        vertical-align: middle;\n",
       "    }\n",
       "\n",
       "    .dataframe tbody tr th {\n",
       "        vertical-align: top;\n",
       "    }\n",
       "\n",
       "    .dataframe thead th {\n",
       "        text-align: right;\n",
       "    }\n",
       "</style>\n",
       "<table border=\"1\" class=\"dataframe\">\n",
       "  <thead>\n",
       "    <tr style=\"text-align: right;\">\n",
       "      <th></th>\n",
       "      <th>units/layer</th>\n",
       "      <th>n_hidden_layers</th>\n",
       "      <th>parameter count</th>\n",
       "      <th>MAE</th>\n",
       "    </tr>\n",
       "  </thead>\n",
       "  <tbody>\n",
       "    <tr>\n",
       "      <th>0</th>\n",
       "      <td>200</td>\n",
       "      <td>4</td>\n",
       "      <td>122202</td>\n",
       "      <td>0.005916</td>\n",
       "    </tr>\n",
       "    <tr>\n",
       "      <th>1</th>\n",
       "      <td>100</td>\n",
       "      <td>4</td>\n",
       "      <td>31102</td>\n",
       "      <td>0.006137</td>\n",
       "    </tr>\n",
       "    <tr>\n",
       "      <th>2</th>\n",
       "      <td>50</td>\n",
       "      <td>4</td>\n",
       "      <td>8052</td>\n",
       "      <td>0.007504</td>\n",
       "    </tr>\n",
       "    <tr>\n",
       "      <th>3</th>\n",
       "      <td>50</td>\n",
       "      <td>10</td>\n",
       "      <td>23352</td>\n",
       "      <td>0.009253</td>\n",
       "    </tr>\n",
       "    <tr>\n",
       "      <th>4</th>\n",
       "      <td>100</td>\n",
       "      <td>9</td>\n",
       "      <td>81602</td>\n",
       "      <td>0.005971</td>\n",
       "    </tr>\n",
       "    <tr>\n",
       "      <th>5</th>\n",
       "      <td>50</td>\n",
       "      <td>2</td>\n",
       "      <td>2952</td>\n",
       "      <td>0.011257</td>\n",
       "    </tr>\n",
       "    <tr>\n",
       "      <th>6</th>\n",
       "      <td>50</td>\n",
       "      <td>3</td>\n",
       "      <td>5502</td>\n",
       "      <td>0.007948</td>\n",
       "    </tr>\n",
       "    <tr>\n",
       "      <th>7</th>\n",
       "      <td>50</td>\n",
       "      <td>5</td>\n",
       "      <td>10602</td>\n",
       "      <td>0.007929</td>\n",
       "    </tr>\n",
       "    <tr>\n",
       "      <th>8</th>\n",
       "      <td>200</td>\n",
       "      <td>2</td>\n",
       "      <td>41802</td>\n",
       "      <td>0.007335</td>\n",
       "    </tr>\n",
       "    <tr>\n",
       "      <th>9</th>\n",
       "      <td>100</td>\n",
       "      <td>7</td>\n",
       "      <td>61402</td>\n",
       "      <td>0.005907</td>\n",
       "    </tr>\n",
       "    <tr>\n",
       "      <th>10</th>\n",
       "      <td>200</td>\n",
       "      <td>6</td>\n",
       "      <td>202602</td>\n",
       "      <td>0.005903</td>\n",
       "    </tr>\n",
       "    <tr>\n",
       "      <th>11</th>\n",
       "      <td>50</td>\n",
       "      <td>1</td>\n",
       "      <td>402</td>\n",
       "      <td>0.031745</td>\n",
       "    </tr>\n",
       "    <tr>\n",
       "      <th>12</th>\n",
       "      <td>50</td>\n",
       "      <td>8</td>\n",
       "      <td>18252</td>\n",
       "      <td>0.006596</td>\n",
       "    </tr>\n",
       "    <tr>\n",
       "      <th>13</th>\n",
       "      <td>50</td>\n",
       "      <td>6</td>\n",
       "      <td>13152</td>\n",
       "      <td>0.006506</td>\n",
       "    </tr>\n",
       "    <tr>\n",
       "      <th>14</th>\n",
       "      <td>100</td>\n",
       "      <td>6</td>\n",
       "      <td>51302</td>\n",
       "      <td>0.006354</td>\n",
       "    </tr>\n",
       "    <tr>\n",
       "      <th>15</th>\n",
       "      <td>200</td>\n",
       "      <td>1</td>\n",
       "      <td>1602</td>\n",
       "      <td>0.028185</td>\n",
       "    </tr>\n",
       "    <tr>\n",
       "      <th>16</th>\n",
       "      <td>100</td>\n",
       "      <td>5</td>\n",
       "      <td>41202</td>\n",
       "      <td>0.006099</td>\n",
       "    </tr>\n",
       "    <tr>\n",
       "      <th>17</th>\n",
       "      <td>200</td>\n",
       "      <td>7</td>\n",
       "      <td>242802</td>\n",
       "      <td>0.005889</td>\n",
       "    </tr>\n",
       "    <tr>\n",
       "      <th>18</th>\n",
       "      <td>100</td>\n",
       "      <td>8</td>\n",
       "      <td>71502</td>\n",
       "      <td>0.005958</td>\n",
       "    </tr>\n",
       "    <tr>\n",
       "      <th>19</th>\n",
       "      <td>200</td>\n",
       "      <td>5</td>\n",
       "      <td>162402</td>\n",
       "      <td>0.005859</td>\n",
       "    </tr>\n",
       "    <tr>\n",
       "      <th>20</th>\n",
       "      <td>100</td>\n",
       "      <td>1</td>\n",
       "      <td>802</td>\n",
       "      <td>0.030274</td>\n",
       "    </tr>\n",
       "    <tr>\n",
       "      <th>21</th>\n",
       "      <td>200</td>\n",
       "      <td>3</td>\n",
       "      <td>82002</td>\n",
       "      <td>0.006638</td>\n",
       "    </tr>\n",
       "    <tr>\n",
       "      <th>22</th>\n",
       "      <td>200</td>\n",
       "      <td>10</td>\n",
       "      <td>363402</td>\n",
       "      <td>0.006089</td>\n",
       "    </tr>\n",
       "    <tr>\n",
       "      <th>23</th>\n",
       "      <td>100</td>\n",
       "      <td>10</td>\n",
       "      <td>91702</td>\n",
       "      <td>0.006136</td>\n",
       "    </tr>\n",
       "    <tr>\n",
       "      <th>24</th>\n",
       "      <td>200</td>\n",
       "      <td>8</td>\n",
       "      <td>283002</td>\n",
       "      <td>0.006167</td>\n",
       "    </tr>\n",
       "    <tr>\n",
       "      <th>25</th>\n",
       "      <td>50</td>\n",
       "      <td>9</td>\n",
       "      <td>20802</td>\n",
       "      <td>0.007433</td>\n",
       "    </tr>\n",
       "    <tr>\n",
       "      <th>26</th>\n",
       "      <td>50</td>\n",
       "      <td>7</td>\n",
       "      <td>15702</td>\n",
       "      <td>0.006338</td>\n",
       "    </tr>\n",
       "    <tr>\n",
       "      <th>27</th>\n",
       "      <td>100</td>\n",
       "      <td>3</td>\n",
       "      <td>21002</td>\n",
       "      <td>0.007160</td>\n",
       "    </tr>\n",
       "    <tr>\n",
       "      <th>28</th>\n",
       "      <td>100</td>\n",
       "      <td>2</td>\n",
       "      <td>10902</td>\n",
       "      <td>0.008371</td>\n",
       "    </tr>\n",
       "    <tr>\n",
       "      <th>29</th>\n",
       "      <td>200</td>\n",
       "      <td>9</td>\n",
       "      <td>323202</td>\n",
       "      <td>0.005947</td>\n",
       "    </tr>\n",
       "  </tbody>\n",
       "</table>\n",
       "</div>"
      ],
      "text/plain": [
       "    units/layer  n_hidden_layers  parameter count       MAE\n",
       "0           200                4           122202  0.005916\n",
       "1           100                4            31102  0.006137\n",
       "2            50                4             8052  0.007504\n",
       "3            50               10            23352  0.009253\n",
       "4           100                9            81602  0.005971\n",
       "5            50                2             2952  0.011257\n",
       "6            50                3             5502  0.007948\n",
       "7            50                5            10602  0.007929\n",
       "8           200                2            41802  0.007335\n",
       "9           100                7            61402  0.005907\n",
       "10          200                6           202602  0.005903\n",
       "11           50                1              402  0.031745\n",
       "12           50                8            18252  0.006596\n",
       "13           50                6            13152  0.006506\n",
       "14          100                6            51302  0.006354\n",
       "15          200                1             1602  0.028185\n",
       "16          100                5            41202  0.006099\n",
       "17          200                7           242802  0.005889\n",
       "18          100                8            71502  0.005958\n",
       "19          200                5           162402  0.005859\n",
       "20          100                1              802  0.030274\n",
       "21          200                3            82002  0.006638\n",
       "22          200               10           363402  0.006089\n",
       "23          100               10            91702  0.006136\n",
       "24          200                8           283002  0.006167\n",
       "25           50                9            20802  0.007433\n",
       "26           50                7            15702  0.006338\n",
       "27          100                3            21002  0.007160\n",
       "28          100                2            10902  0.008371\n",
       "29          200                9           323202  0.005947"
      ]
     },
     "execution_count": 21,
     "metadata": {},
     "output_type": "execute_result"
    }
   ],
   "source": [
    "def construct_model_summary(config):    \n",
    "    mdl_attr = {}\n",
    "    hid_layer_dims = config['hid_layer_dims']\n",
    "    mdl_attr['units/layer'] = hid_layer_dims[0]\n",
    "    mdl_attr['n_hidden_layers'] = len(hid_layer_dims)\n",
    "    mdl_attr['parameter count'] = get_parameter_count(config['hid_layer_dims'])\n",
    "    mdl_attr['MAE'] = get_min_error(config, models_path)  # default metric is MAE on validation set\n",
    "    \n",
    "    return mdl_attr\n",
    "\n",
    "mdl_attr_lst = [construct_model_summary(config) for config in configurations]\n",
    "\n",
    "lbls = ['units/layer', 'n_hidden_layers', 'parameter count', 'MAE']\n",
    "df = pd.DataFrame(mdl_attr_lst)[lbls]\n",
    "# df.to_csv('summary.csv', sep='\\t', encoding='utf-8', index=False) # load in excel to analyse training results\n",
    "df"
   ]
  },
  {
   "cell_type": "markdown",
   "metadata": {},
   "source": [
    "**Plot learning curve**"
   ]
  },
  {
   "cell_type": "code",
   "execution_count": 33,
   "metadata": {},
   "outputs": [
    {
     "data": {
      "image/png": "[encoded data removed]",
      "text/plain": [
       "<Figure size 720x360 with 1 Axes>"
      ]
     },
     "metadata": {},
     "output_type": "display_data"
    }
   ],
   "source": [
    "metric_lbl = 'loss' # 'loss', 'mean_absolute_error'\n",
    "\n",
    "fig, ax = plt.subplots(figsize=(10,5))\n",
    "\n",
    "config = configurations[0]\n",
    "metrics = get_model_metrics(config, models_path)\n",
    "\n",
    "train_metrics = metrics['train_' + metric_lbl]\n",
    "valid_metrics = metrics['val_' + metric_lbl]\n",
    "\n",
    "ax.plot(np.arange(len(train_metrics))+1, train_metrics, 'k', label='train')\n",
    "ax.plot(np.arange(len(valid_metrics))+1, valid_metrics, 'k-.', label='valid')\n",
    "\n",
    "ax.set_xlabel('number of epochs', fontsize=14)\n",
    "ax.set_ylabel('loss', fontsize=14)\n",
    "leg = ax.legend(loc='upper right', fontsize=14)\n",
    "\n",
    "fig.tight_layout()"
   ]
  }
 ],
 "metadata": {
  "kernelspec": {
   "display_name": "Python 3",
   "language": "python",
   "name": "python3"
  },
  "language_info": {
   "codemirror_mode": {
    "name": "ipython",
    "version": 3
   },
   "file_extension": ".py",
   "mimetype": "text/x-python",
   "name": "python",
   "nbconvert_exporter": "python",
   "pygments_lexer": "ipython3",
   "version": "3.6.6"
  }
 },
 "nbformat": 4,
 "nbformat_minor": 2
}
